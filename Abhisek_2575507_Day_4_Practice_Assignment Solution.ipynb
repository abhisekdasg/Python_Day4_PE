{
 "cells": [
  {
   "cell_type": "markdown",
   "id": "668ffc6a",
   "metadata": {},
   "source": [
    "# Exceptions and Command-Line Arguments"
   ]
  },
  {
   "cell_type": "markdown",
   "id": "1211259c",
   "metadata": {},
   "source": [
    "# 1. Write a python program with Exception handling to \n",
    "input marks for five subjects Physics, Chemistry, Biology, Mathematics, and Computer. \n",
    "Calculate the percentage and grade according to the following:\n",
    "    I.Percentage 90%: Grade A\n",
    "    II.Percentage >80%: Grade B\n",
    "    III.Percentage 70%: Grade C\n",
    "    IV.Percentage > 60%: Grade D\n",
    "    V.Percentage >= 40%: Grade E\n",
    "    VI.Percentage < 40%: Grade F"
   ]
  },
  {
   "cell_type": "code",
   "execution_count": 10,
   "id": "a9ac07d1",
   "metadata": {},
   "outputs": [
    {
     "name": "stdout",
     "output_type": "stream",
     "text": [
      "Enter Physics marks: 55\n",
      "Enter Chemistry marks: 55\n",
      "Enter Biology marks: 45\n",
      "Enter Mathematics marks: 45\n",
      "Enter Computer marks: 50\n",
      "Percentage: 50.0%\n",
      "Grade: E\n",
      "***** Your Percentage and Grade Sucessfully Dispalyed.*****\n"
     ]
    }
   ],
   "source": [
    "try:\n",
    "    # taking user marks for five subjects\n",
    "    physics = float(input(\"Enter Physics marks: \"))\n",
    "    chemistry = float(input(\"Enter Chemistry marks: \"))\n",
    "    biology = float(input(\"Enter Biology marks: \"))\n",
    "    mathematics = float(input(\"Enter Mathematics marks: \"))\n",
    "    computer = float(input(\"Enter Computer marks: \"))\n",
    "    \n",
    "    TotMark= physics + chemistry + biology + mathematics + computer \n",
    "    \n",
    "     # Calculate percentage\n",
    "    percentage = (TotMark / 500) * 100\n",
    "\n",
    "    # Determine the grade\n",
    "    if percentage >= 90:\n",
    "        grade = \"A\"\n",
    "    elif percentage > 80:\n",
    "        grade = \"B\"\n",
    "    elif percentage >= 70:\n",
    "        grade = \"C\"\n",
    "    elif percentage > 60:\n",
    "        grade = \"D\"\n",
    "    elif percentage >= 40:\n",
    "        grade = \"E\"\n",
    "    else:\n",
    "        grade = \"F\"\n",
    "\n",
    "    \n",
    "    print(f\"Percentage: {percentage}%\")\n",
    "    print(f\"Grade: {grade}\")\n",
    "    print(\"***** Your Percentage and Grade Sucessfully Dispalyed.*****\")\n",
    "\n",
    "        \n",
    "except ValueError:\n",
    "    print(\"!!Invalid input. Please Enter Correct Value---\")\n",
    "except Exception as e:\n",
    "    print(f\"An error occurred: {e}\")\n"
   ]
  },
  {
   "cell_type": "markdown",
   "id": "7f1f9f10",
   "metadata": {},
   "source": [
    "# 2. Write a python program with Exception handling to \n",
    "# input electricity unit charges and calculate the total electricity bill according to the given condition:\n",
    "    I.For the first 50 units Rs. 0.50/unit\n",
    "    II.For the next 100 units Rs. 0.75/unit\n",
    "    III.For the next 100 units Rs. 1.20/unit\n",
    "    IV.For units above 250 Rs. 1.50/unit\n",
    "    V.An additional surcharge of 20% is added to the bill.\n"
   ]
  },
  {
   "cell_type": "code",
   "execution_count": 11,
   "id": "2e7ca8ff",
   "metadata": {},
   "outputs": [
    {
     "name": "stdout",
     "output_type": "stream",
     "text": [
      "Enter electricity units : 500\n",
      "Total Electricity Bill: Rs. 714.00\n"
     ]
    }
   ],
   "source": [
    "try:\n",
    "    # Inputing electricity units \n",
    "    units = float(input(\"Enter electricity units : \"))\n",
    "\n",
    "    # conditions of charges\n",
    "    if units <= 50:\n",
    "        bill = units * 0.50\n",
    "    elif units <= 150:\n",
    "        bill = 50 * 0.50 + (units - 50) * 0.75\n",
    "    elif units <= 250:\n",
    "        bill = 50 * 0.50 + 100 * 0.75 + (units - 150) * 1.20\n",
    "    else:\n",
    "        bill = 50 * 0.50 + 100 * 0.75 + 100 * 1.20 + (units - 250) * 1.50\n",
    "\n",
    "    # Adding additional surcharge of 20%\n",
    "    Total_Bill = bill + (bill * 0.20)\n",
    "\n",
    "    print(f\"Total Electricity Bill: Rs. {Total_Bill:.2f}\")\n",
    "\n",
    "except ValueError:\n",
    "    print(\"Invalid input. Please enter a valid electricity units.\")\n",
    "except Exception as e:\n",
    "    print(f\"An error occurred: {e}\")\n"
   ]
  },
  {
   "cell_type": "markdown",
   "id": "c74c25a9",
   "metadata": {},
   "source": [
    "# 3. Write a python program with Exception handling to input the week number and print the weekday. "
   ]
  },
  {
   "cell_type": "code",
   "execution_count": 20,
   "id": "2dcd3804",
   "metadata": {},
   "outputs": [
    {
     "name": "stdout",
     "output_type": "stream",
     "text": [
      "Enter the week number (1-7): 1\n",
      "Weekday for week number 1 is Monday.\n"
     ]
    }
   ],
   "source": [
    "try:\n",
    "    # Input week number\n",
    "    week_number = int(input(\"Enter the week number (1-7): \"))\n",
    "\n",
    "    # Define a list of weekdays\n",
    "    weekdays = [\"Monday\", \"Tuesday\", \"Wednesday\", \"Thursday\", \"Friday\", \"Saturday\", \"Sunday\"]\n",
    "\n",
    "    # Checking that the week number is valid (between 1 and 7)\n",
    "    if 1<= week_number <= 7:\n",
    "        weekday = weekdays[week_number-1]\n",
    "        print(f\"Weekday for week number {week_number} is {weekday}.\")\n",
    "    else:\n",
    "        print(\"Invalid week number. Please enter a number between 1 and 7.\")\n",
    "\n",
    "except ValueError:\n",
    "    print(\"!!Invalid input. Please enter a valid week number.\")\n",
    "except Exception as e:\n",
    "    print(f\"An error occurred: {e}\")\n"
   ]
  },
  {
   "cell_type": "markdown",
   "id": "76196d37",
   "metadata": {},
   "source": [
    "# 4. Write a Python program to implement word count using command line arguments.\n",
    "\n",
    "    I.Create a text document \"apple.txt\" which contains text for wordcount.\n",
    "    II.Create a wordcount program which calls the \"apple.txt\" document by opening the file.\n",
    "    III.If the word is present again in the \"apple.txt\", the wordcount is incremented by 1 until all the words are counted in the document.\n",
    "    IV.Close the file.\n",
    "    V.Create a command.py program which imports the wordcount.py program. \n",
    "    VI.Count the number of words using command line arguments.\n",
    "    VII.Print each word and its count\n"
   ]
  },
  {
   "cell_type": "code",
   "execution_count": 19,
   "id": "83780c60",
   "metadata": {},
   "outputs": [],
   "source": [
    "# Create apple.txt and write some text to it\n",
    "with open(\"apple.txt\", \"w\") as file:\n",
    "    file.write(\"\"\"The orange industry is significant, especially in places like Florida, where orange groves are a common sight. \n",
    "               Orange blossoms have a sweet fragrance, and orange juice is a common ingredient in cocktails and sherbet. \n",
    "               Orange is a vibrant and energetic color, associated with sunshine, warmth, and autumn leaves. \n",
    "               The orange sunset paints the sky with hues of orange, and orange is one of the colors of the rainbow. \n",
    "               Freshly squeezed orange juice has an unparalleled taste, and oranges are used in marinades and dishes like orange chicken. \n",
    "               The juicy orange segments burst with flavor when you bite into them.\"\"\")\n",
    "    file.close()\n"
   ]
  },
  {
   "cell_type": "code",
   "execution_count": null,
   "id": "a823506c",
   "metadata": {},
   "outputs": [],
   "source": [
    "# This is wordcount.py file\n",
    "\n",
    "def count_words(filename):\n",
    "    word_count = {}\n",
    "    \n",
    "    with open(filename, \"r\") as file:\n",
    "        text = file.read()\n",
    "        words = text.split()\n",
    "       \t\n",
    "  \n",
    "        for word in words:\n",
    "            # Remove punctuation and convert to lowercase for accurate counting\n",
    "            word = word.strip(\".,!?\").lower()\n",
    "            \n",
    "            if word in word_count:\n",
    "                word_count[word] += 1\n",
    "            else:\n",
    "                word_count[word] = 1\n",
    "    print()\n",
    "    print('*' * 80)\n",
    "    print('* Total no of words present in this file is: ',len(words),' '*(33-len(word)),'*')\n",
    "    print('*' * 80)\n",
    "\n",
    "   \n",
    "    return word_count"
   ]
  },
  {
   "cell_type": "code",
   "execution_count": null,
   "id": "84d56cbc",
   "metadata": {},
   "outputs": [],
   "source": [
    "# This is command.py file\n",
    "\n",
    "import sys\n",
    "from wordcount import count_words\n",
    "\n",
    "if __name__ == \"__main__\":\n",
    "    if len(sys.argv) != 2:\n",
    "        print(\"Usage: python command.py <filename>\")\n",
    "        sys.exit(1)\n",
    "    \n",
    "    filename = sys.argv[1]\n",
    "    word_count = count_words(filename)\n",
    "    \n",
    "    for word, count in word_count.items():\n",
    "        print(f\"*    {word} -------> {count}\",' '* (61-len(word)),'*')\n",
    "    \n",
    "    print('*' * 80)"
   ]
  },
  {
   "cell_type": "code",
   "execution_count": null,
   "id": "bb7028a2",
   "metadata": {},
   "outputs": [],
   "source": [
    "#  This is the command that we need to  execute on CLI of Anaconda Prompt or any python cli\n",
    "python command.py apple.txt\n"
   ]
  },
  {
   "cell_type": "markdown",
   "id": "05e56b73",
   "metadata": {},
   "source": [
    "# 5. Write a Python program for finding the most frequent words in a text read from a file.\n",
    "    I.Initially open the text file in read mode. \n",
    "    II.Make all the letters in the document into lowercase letters and split the words in each line\n",
    "    III.Get the words in an order\n",
    "    IV.Sort the words for finding the most frequent words in the file.\n",
    "    V.Print the most frequent words in the file\n"
   ]
  },
  {
   "cell_type": "code",
   "execution_count": 3,
   "id": "5f4a3a20",
   "metadata": {},
   "outputs": [],
   "source": [
    "# first we have to create a file in our directory\n",
    "\n",
    "file=open('day4text.txt','w')\n",
    "file.write('''\n",
    "    Still, this novel’s most worrisome aspect is its revival of many tropes from the tragic mulatto genre with the twist of a change in setting from the United States to Japan. \n",
    "    Instead of being in love with a white man she can never have, she loves her Japanese brother, whose social status she threatens by merely existing. \n",
    "    And also, she is in love with a white man she can never have, too. Noriko even abandons her black kin, \n",
    "    check-marking the tragic mulatto trope of deserting one’s black family members for social gain.\n",
    "    \n",
    "    ''')\n",
    "file.close()"
   ]
  },
  {
   "cell_type": "code",
   "execution_count": 54,
   "id": "56fc230f",
   "metadata": {},
   "outputs": [
    {
     "name": "stdout",
     "output_type": "stream",
     "text": [
      "*********************************************************************************\n",
      "* The 92 most frequent words are:                                               *\n",
      "*********************************************************************************\n",
      "*  she: 5times                                                                  *\n",
      "*  of: 4times                                                                   *\n",
      "*  the: 4times                                                                  *\n",
      "*  with: 3times                                                                 *\n",
      "*  a: 3times                                                                    *\n",
      "*  in: 3times                                                                   *\n",
      "*  is: 2times                                                                   *\n",
      "*  from: 2times                                                                 *\n",
      "*  tragic: 2times                                                               *\n",
      "*  mulatto: 2times                                                              *\n",
      "*  love: 2times                                                                 *\n",
      "*  white: 2times                                                                *\n",
      "*  man: 2times                                                                  *\n",
      "*  can: 2times                                                                  *\n",
      "*  never: 2times                                                                *\n",
      "*  have,: 2times                                                                *\n",
      "*  her: 2times                                                                  *\n",
      "*  social: 2times                                                               *\n",
      "*  black: 2times                                                                *\n",
      "*  still,: 1times                                                               *\n",
      "*  this: 1times                                                                 *\n",
      "*  novel’s: 1times                                                              *\n",
      "*  most: 1times                                                                 *\n",
      "*  worrisome: 1times                                                            *\n",
      "*  aspect: 1times                                                               *\n",
      "*  its: 1times                                                                  *\n",
      "*  revival: 1times                                                              *\n",
      "*  many: 1times                                                                 *\n",
      "*  tropes: 1times                                                               *\n",
      "*  genre: 1times                                                                *\n",
      "*  twist: 1times                                                                *\n",
      "*  change: 1times                                                               *\n",
      "*  setting: 1times                                                              *\n",
      "*  united: 1times                                                               *\n",
      "*  states: 1times                                                               *\n",
      "*  to: 1times                                                                   *\n",
      "*  japan.: 1times                                                               *\n",
      "*  instead: 1times                                                              *\n",
      "*  being: 1times                                                                *\n",
      "*  loves: 1times                                                                *\n",
      "*  japanese: 1times                                                             *\n",
      "*  brother,: 1times                                                             *\n",
      "*  whose: 1times                                                                *\n",
      "*  status: 1times                                                               *\n",
      "*  threatens: 1times                                                            *\n",
      "*  by: 1times                                                                   *\n",
      "*  merely: 1times                                                               *\n",
      "*  existing.: 1times                                                            *\n",
      "*  and: 1times                                                                  *\n",
      "*  also,: 1times                                                                *\n",
      "*  too.: 1times                                                                 *\n",
      "*  noriko: 1times                                                               *\n",
      "*  even: 1times                                                                 *\n",
      "*  abandons: 1times                                                             *\n",
      "*  kin,: 1times                                                                 *\n",
      "*  check-marking: 1times                                                        *\n",
      "*  trope: 1times                                                                *\n",
      "*  deserting: 1times                                                            *\n",
      "*  one’s: 1times                                                                *\n",
      "*  family: 1times                                                               *\n",
      "*  members: 1times                                                              *\n",
      "*  for: 1times                                                                  *\n",
      "*  gain.: 1times                                                                *\n",
      "*********************************************************************************\n"
     ]
    }
   ],
   "source": [
    "try:\n",
    "  # I. Initially open the text file in read mode. \n",
    "    with open(\"day4text.txt\", \"r\") as file:\n",
    "       \n",
    "    #  II.Make all the letters in the document into lowercase letters and split the words in each line\n",
    "        content = file.read().lower().split()\n",
    "\n",
    "        word_counts = {}\n",
    "\n",
    "        # Step 4: Count the frequency of each word\n",
    "        for word in content:\n",
    "                  \n",
    "            if word in word_counts:\n",
    "                word_counts[word] += 1\n",
    "            else:\n",
    "                word_counts[word] = 1\n",
    "\n",
    "         # III.Get the words in an order\n",
    "         #IV.Sort the words for finding the most frequent words in the file.\n",
    "        sorted_words = sorted(word_counts.items(), key=lambda x: x[1], reverse=True)\n",
    "\n",
    "        # Print the most frequent words (you can change the number to display more or fewer)\n",
    "        num_words_to_display = len(content)\n",
    "       \n",
    "        print('*' * 81)\n",
    "        print(f\"* The {num_words_to_display} most frequent words are:\",' '*(60-(len(word)+10)),'*')\n",
    "        print('*' * 81)\n",
    "        for word, frequency in sorted_words[:num_words_to_display]:\n",
    "            print(f\"*  {word}: {frequency}times\",' '* (67-len(word)),'*')\n",
    "        print('*' * 81)\n",
    "        \n",
    "except FileNotFoundError:\n",
    "    print(\"The file 'day4text.txt' was not found.\")\n",
    "except Exception as e:\n",
    "    print(f\"An error occurred: {e}\")\n"
   ]
  },
  {
   "cell_type": "code",
   "execution_count": null,
   "id": "ba60da60",
   "metadata": {},
   "outputs": [],
   "source": [
    "6. File Processing with Command-Line Arguments- Scenario:\n",
    "    You are developing a command-line utility that processes text files. \n",
    "    Users can specify input and output file paths as command-line arguments. \n",
    "    Your program should handle exceptions gracefully.\n",
    "    \n",
    "    I.Design a Python program that takes two command-line arguments: the input file path and the output file path. Ensure that the program checks if both arguments are provided and that the input file exists.\n",
    "    II.Implement error handling to deal with scenarios such as missing input files. invalid file paths, or permission issues when writing to the output file.\n",
    "    III.If an error occurs during file processing, display a user-friendly error message. and exit the program with a non-zero exit code.\n",
    "    IV.Write test cases that cover various scenarios, including providing valid and invalid file paths as command-line arguments.\n"
   ]
  },
  {
   "cell_type": "code",
   "execution_count": null,
   "id": "8f04a0df",
   "metadata": {},
   "outputs": [],
   "source": [
    "# This file is saved as program.py file\n",
    "\n",
    "import sys\n",
    "\n",
    "def process_files(input_file_path, output_file_path):\n",
    "    try:\n",
    "        with open(input_file_path, 'r') as input_file:\n",
    "            data = input_file.read()\n",
    "        \n",
    "        # Process data as needed, in this example, we'll just copy it\n",
    "        with open(output_file_path, 'w') as output_file:\n",
    "            output_file.write(data)\n",
    "        \n",
    "        print(f\"File '{input_file_path}' processed successfully and saved to '{output_file_path}'\")\n",
    "    except FileNotFoundError:\n",
    "        print(f\"Error: Input file '{input_file_path}' not found.\")\n",
    "        sys.exit(1)\n",
    "    except PermissionError:\n",
    "        print(f\"Error: Permission denied when writing to '{output_file_path}'.\")\n",
    "        sys.exit(1)\n",
    "    except Exception as e:\n",
    "        print(f\"An error occurred: {str(e)}\")\n",
    "        sys.exit(1)\n",
    "\n",
    "if __name__ == \"__main__\":\n",
    "    if len(sys.argv) != 3:\n",
    "        print(\"Usage: python program.py <input_file_path> <output_file_path>\")\n",
    "        sys.exit(1)\n",
    "\n",
    "    input_file_path = sys.argv[1]\n",
    "    output_file_path = sys.argv[2]\n",
    "\n",
    "    process_files(input_file_path, output_file_path)\n"
   ]
  },
  {
   "cell_type": "code",
   "execution_count": null,
   "id": "eb7bf4ae",
   "metadata": {},
   "outputs": [],
   "source": [
    "# execute this code in CLA terminal, ensure that input.txt file will be created \n",
    "\n",
    "python script.py input.txt output.txt\n"
   ]
  }
 ],
 "metadata": {
  "kernelspec": {
   "display_name": "Python 3 (ipykernel)",
   "language": "python",
   "name": "python3"
  },
  "language_info": {
   "codemirror_mode": {
    "name": "ipython",
    "version": 3
   },
   "file_extension": ".py",
   "mimetype": "text/x-python",
   "name": "python",
   "nbconvert_exporter": "python",
   "pygments_lexer": "ipython3",
   "version": "3.11.4"
  }
 },
 "nbformat": 4,
 "nbformat_minor": 5
}
